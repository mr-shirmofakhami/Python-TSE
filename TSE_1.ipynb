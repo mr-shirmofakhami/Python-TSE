{
 "cells": [
  {
   "cell_type": "markdown",
   "source": [
    "## Requirements"
   ],
   "metadata": {
    "collapsed": false,
    "pycharm": {
     "name": "#%% md\n"
    }
   }
  },
  {
   "cell_type": "code",
   "execution_count": 1,
   "outputs": [],
   "source": [
    "# !pip install git+https://github.com/Glyphack/pytse-client.git"
   ],
   "metadata": {
    "collapsed": false,
    "pycharm": {
     "name": "#%%\n"
    }
   }
  },
  {
   "cell_type": "markdown",
   "source": [
    "## Imports"
   ],
   "metadata": {
    "collapsed": false,
    "pycharm": {
     "name": "#%% md\n"
    }
   }
  },
  {
   "cell_type": "code",
   "execution_count": 64,
   "outputs": [],
   "source": [
    "# import requests\n",
    "# import numpy as np\n",
    "# import panda as pd\n",
    "import pytse_client as tse\n",
    "import plotly.graph_objects as go\n",
    "import plotly.express as px\n",
    "import datetime\n",
    "from pytse_client.download import download_financial_indexes\n",
    "from pytse_client import download_client_types_records\n",
    "from pytse_client import get_stats\n",
    "# from plotly.subplots import make_subplots\n",
    "# from dash import Dash, dcc, html, Input, Output"
   ],
   "metadata": {
    "collapsed": false,
    "pycharm": {
     "name": "#%%\n"
    }
   }
  },
  {
   "cell_type": "markdown",
   "source": [
    "### Stock"
   ],
   "metadata": {
    "collapsed": false,
    "pycharm": {
     "name": "#%% md\n"
    }
   }
  },
  {
   "cell_type": "code",
   "execution_count": 5,
   "outputs": [],
   "source": [
    "tickers = tse.download(symbols=\"َall\", write_to_csv=True, adjust=True, include_jdate=True)"
   ],
   "metadata": {
    "collapsed": false,
    "pycharm": {
     "name": "#%%\n"
    }
   }
  },
  {
   "cell_type": "markdown",
   "source": [
    "### Indexes"
   ],
   "metadata": {
    "collapsed": false,
    "pycharm": {
     "name": "#%% md\n"
    }
   }
  },
  {
   "cell_type": "code",
   "execution_count": 7,
   "outputs": [],
   "source": [
    "tickers_index = download_financial_indexes(symbols=\"all\", write_to_csv=True, base_path=\"hello\",  include_jdate=True)"
   ],
   "metadata": {
    "collapsed": false,
    "pycharm": {
     "name": "#%%\n"
    }
   }
  },
  {
   "cell_type": "markdown",
   "source": [
    "## charts"
   ],
   "metadata": {
    "collapsed": false,
    "pycharm": {
     "name": "#%% md\n"
    }
   }
  },
  {
   "cell_type": "code",
   "execution_count": null,
   "outputs": [],
   "source": [
    "print(tickers_index['شاخص كل'])\n",
    "print(tickers[\"ولملت\"])\n",
    "print(tickers_index.keys())"
   ],
   "metadata": {
    "collapsed": false,
    "pycharm": {
     "name": "#%%\n",
     "is_executing": true
    }
   }
  },
  {
   "cell_type": "code",
   "execution_count": 50,
   "outputs": [],
   "source": [
    "# chart1 شاخص کل\n",
    "data = tickers_index['شاخص كل']\n",
    "fig = go.Figure(data=go.Scatter(x=data.index[2500 : ] ,y=data.value, mode='lines'))\n",
    "fig.show()"
   ],
   "metadata": {
    "collapsed": false,
    "pycharm": {
     "name": "#%%\n"
    }
   }
  },
  {
   "cell_type": "code",
   "execution_count": null,
   "outputs": [],
   "source": [
    "#chart 2 شاخص کل\n",
    "data = tickers_index['شاخص كل']\n",
    "data2 = data.loc[(data[\"date\"] >= \"2019-07-01\")]\n",
    "fig = px.line(data2, x= \"date\", y=\"value\")\n",
    "fig.show()"
   ],
   "metadata": {
    "collapsed": false,
    "pycharm": {
     "name": "#%%\n",
     "is_executing": true
    }
   }
  },
  {
   "cell_type": "code",
   "execution_count": null,
   "outputs": [],
   "source": [
    "# # chart 3\n",
    "# app = Dash(__name__)\n",
    "#\n",
    "# data = tickers_index\n",
    "# app.layout = html.Div([\n",
    "#     html.H4('Stock price analysis'),\n",
    "#     dcc.Graph(id=\"time-series-chart\"),\n",
    "#     html.P(\"Select index:\"),\n",
    "#     dcc.Dropdown(\n",
    "#         id=\"ticker\",\n",
    "#         options=[tickers_index.keys()],\n",
    "#         value=\"شاخص كل\",\n",
    "#         clearable=False,\n",
    "#     ),\n",
    "# ])\n",
    "#\n",
    "#\n",
    "# @app.callback(\n",
    "#     Output(\"time-series-chart\", \"figure\"),\n",
    "#     Input(\"ticker\", \"value\"))\n",
    "# def display_time_series(ticker):\n",
    "#     data = tickers_index['']\n",
    "#     fig = px.line(data, x='date', y=\"value\")\n",
    "#     # df = px.data.stocks() # replace with your own data source\n",
    "#     # fig = px.line(df, x='date', y=ticker.value)\n",
    "#     return fig\n",
    "#\n",
    "#\n",
    "# app.run_server(debug=True)"
   ],
   "metadata": {
    "collapsed": false,
    "pycharm": {
     "name": "#%%\n",
     "is_executing": true
    }
   }
  },
  {
   "cell_type": "markdown",
   "source": [
    "### individual and corporate details"
   ],
   "metadata": {
    "collapsed": false,
    "pycharm": {
     "name": "#%% md\n"
    }
   }
  },
  {
   "cell_type": "code",
   "execution_count": 72,
   "outputs": [
    {
     "name": "stdout",
     "output_type": "stream",
     "text": [
      "could not download client types for all the symbols make\n",
      "        sure you have what you need or re-run the function\n",
      "           date individual_buy_count corporate_buy_count  \\\n",
      "0    2022-09-10                 1456                   8   \n",
      "1    2022-09-07                 1449                   6   \n",
      "2    2022-09-06                 1433                   6   \n",
      "3    2022-09-05                 2007                   3   \n",
      "4    2022-09-04                 2183                   7   \n",
      "...         ...                  ...                 ...   \n",
      "3023 2008-12-02                    7                   1   \n",
      "3024 2008-12-01                    8                   1   \n",
      "3025 2008-11-30                   10                   2   \n",
      "3026 2008-11-29                  116                 175   \n",
      "3027 2008-11-26                   14                   2   \n",
      "\n",
      "     individual_sell_count corporate_sell_count individual_buy_vol  \\\n",
      "0                     1076                   13           29062906   \n",
      "1                      857                   14           32216792   \n",
      "2                      925                    8           20280964   \n",
      "3                      820                   10           34964184   \n",
      "4                      775                   14           30862710   \n",
      "...                    ...                  ...                ...   \n",
      "3023                     1                    0              18553   \n",
      "3024                     5                    1             128666   \n",
      "3025                     1                    1              87219   \n",
      "3026                     3                    2            4718258   \n",
      "3027                     4                    1             106338   \n",
      "\n",
      "     corporate_buy_vol individual_sell_vol corporate_sell_vol  \\\n",
      "0             21378562            27200089           23241379   \n",
      "1             10367000            18179929           24403863   \n",
      "2             14420554            23545245           11156273   \n",
      "3             13711412            34007836           14667760   \n",
      "4             11429965            30396444           11896231   \n",
      "...                ...                 ...                ...   \n",
      "3023             10000               28553                  0   \n",
      "3024                10              128666                 10   \n",
      "3025             12791              100000                 10   \n",
      "3026          33691903              121402           38288759   \n",
      "3027             20010              126338                 10   \n",
      "\n",
      "     individual_buy_value corporate_buy_value individual_sell_value  \\\n",
      "0            146260987130        107612798860          137059128840   \n",
      "1            162903228610         52387990720           91866598120   \n",
      "2            102617004540         72991547260          119115258980   \n",
      "3            177799489620         69584230600          172832051400   \n",
      "4            157250128200         58146415890          154832685820   \n",
      "...                   ...                 ...                   ...   \n",
      "3023             43358361            23370000              66728361   \n",
      "3024            300821108               24090             300821108   \n",
      "3025            204005241            29918859             233900000   \n",
      "3026          14980229312        107713006031             284080680   \n",
      "3027            248937258            46844120             295757258   \n",
      "\n",
      "     corporate_sell_value  individual_buy_mean_price  \\\n",
      "0            116814657150                5032.565812   \n",
      "1            123424621210                5056.469577   \n",
      "2             56493292820                5059.769572   \n",
      "3             74551668820                5085.189164   \n",
      "4             60563858270                5095.149720   \n",
      "...                   ...                        ...   \n",
      "3023                    0                2337.000000   \n",
      "3024                24090                2338.000000   \n",
      "3025                24100                2339.000000   \n",
      "3026         122409154663                3174.949168   \n",
      "3027                24120                2341.000000   \n",
      "\n",
      "      individual_sell_mean_price  corporate_buy_mean_price  \\\n",
      "0                    5038.922073               5033.678077   \n",
      "1                    5053.187948               5053.341441   \n",
      "2                    5058.994246               5061.632671   \n",
      "3                    5082.124349               5074.913554   \n",
      "4                    5093.776292               5087.191071   \n",
      "...                          ...                       ...   \n",
      "3023                 2337.000000               2337.000000   \n",
      "3024                 2338.000000               2409.000000   \n",
      "3025                 2339.000000               2339.055508   \n",
      "3026                 2340.000000               3196.999767   \n",
      "3027                 2341.000000               2341.035482   \n",
      "\n",
      "      corporate_sell_mean_price  individual_ownership_change  \n",
      "0                   5026.150004                    1862817.0  \n",
      "1                   5057.585400                   14036863.0  \n",
      "2                   5063.814127                   -3264281.0  \n",
      "3                   5082.689437                     956348.0  \n",
      "4                   5091.012294                     466266.0  \n",
      "...                         ...                          ...  \n",
      "3023                        NaN                     -10000.0  \n",
      "3024                2409.000000                          0.0  \n",
      "3025                2410.000000                     -12781.0  \n",
      "3026                3196.999795                    4596856.0  \n",
      "3027                2412.000000                     -20000.0  \n",
      "\n",
      "[3028 rows x 18 columns]\n"
     ]
    }
   ],
   "source": [
    "if __name__ == '__main__':\n",
    "    records_dict = download_client_types_records(\"all\", write_to_csv=True)\n",
    "    print(records_dict[\"فولاد\"])"
   ],
   "metadata": {
    "collapsed": false,
    "pycharm": {
     "name": "#%%\n"
    }
   }
  },
  {
   "cell_type": "markdown",
   "source": [
    "### shareholders"
   ],
   "metadata": {
    "collapsed": false,
    "pycharm": {
     "name": "#%% md\n"
    }
   }
  },
  {
   "cell_type": "code",
   "execution_count": null,
   "outputs": [],
   "source": [
    "ticker = tse.Ticker(\"وبملت\")\n",
    "print(ticker.shareholders)"
   ],
   "metadata": {
    "collapsed": false,
    "pycharm": {
     "name": "#%%\n",
     "is_executing": true
    }
   }
  },
  {
   "cell_type": "code",
   "execution_count": 21,
   "outputs": [],
   "source": [
    "ticker = tse.Ticker(\"وبملت\")\n",
    "await ticker.get_shareholders_history_async(\n",
    "    from_when=datetime.timedelta(days=90),  # تعداد روزهای گذشته که مقدار پیشفرض ۹۰ روز است\n",
    "    to_when=datetime.datetime.now(),  # تا چه تاریخی اطلاعات گرفته شود که پیشفرض امروز است\n",
    "    only_trade_days=True,  # فقط روز‌های معاملاتی که پیشفرض بله است\n",
    ")\n",
    "\n",
    "result = await ticker.get_total_shares_history_async(\n",
    "    from_when=datetime.timedelta(days=90),  # تعداد روز‌های گذشته که مقدار پیشفرض ۶۰ روز است\n",
    "    to_when=datetime.datetime.now(),  # تا چه تاریخی اطلاعات گرفته شود که پیشفرض امروز است\n",
    "    # only_trade_days=True,  # فقط روز‌های معاملاتی که پیشفرض بله است\n",
    ")"
   ],
   "metadata": {
    "collapsed": false,
    "pycharm": {
     "name": "#%%\n"
    }
   }
  },
  {
   "cell_type": "code",
   "execution_count": 47,
   "outputs": [
    {
     "name": "stdout",
     "output_type": "stream",
     "text": [
      "49.55\n",
      "50.45\n"
     ]
    }
   ],
   "source": [
    "print(ticker.shareholders.percentage.sum())  # جمع درصد سهام‌داران عمده\n",
    "\n",
    "print(100 - ticker.shareholders.percentage.sum())  # درصد سهام شناور\n"
   ],
   "metadata": {
    "collapsed": false,
    "pycharm": {
     "name": "#%%\n"
    }
   }
  },
  {
   "cell_type": "markdown",
   "source": [
    "### real time data"
   ],
   "metadata": {
    "collapsed": false,
    "pycharm": {
     "name": "#%% md\n"
    }
   }
  },
  {
   "cell_type": "code",
   "execution_count": null,
   "outputs": [],
   "source": [
    "ticker = tse.Ticker(\"وبملت\")\n",
    "try:\n",
    "    real_time_data = ticker.get_ticker_real_time_info_response()\n",
    "except RuntimeError: # هندل کردن ارور در صورت وجود نداشتن اطلاعات لحظه‌ای\n",
    "    print(\"cannot get realtime data\")\n",
    "\n",
    "print(real_time_data.buy_orders) # پیشنهادات خرید\n",
    "print(real_time_data.sell_orders) # پیشنهادات فروش\n",
    "print(real_time_data.best_supply_price)  # قیمت بهترین تقاضا\n",
    "print(real_time_data.best_supply_vol)  # حجم بهترین تقاضا\n",
    "print(real_time_data.best_demand_price)  # قیمت بهترین عرضه\n",
    "print(real_time_data.best_demand_vol)  # حجم بهترین عرضه\n",
    "print(real_time_data.state)  # وضعیت نماد\n",
    "print(real_time_data.last_price)  # قیمت آخرین معامله\n",
    "print(real_time_data.adj_close)  # قیمت پایانی\n",
    "print(real_time_data.yesterday_price)  # قیمت دیروز\n",
    "print(real_time_data.open_price)  # قیمت اولین معامله\n",
    "print(real_time_data.high_price)  # قیمت حداکثر\n",
    "print(real_time_data.low_price)  # قیمت حداقل\n",
    "print(real_time_data.count)  # تعداد معاملات\n",
    "print(real_time_data.volume)  # حجم معاملات\n",
    "print(real_time_data.value)  # ارزش معاملات\n",
    "print(real_time_data.last_date)  # آخرین اطلاعات قیمت ناشی از تغییرات شرکتی و معاملات"
   ],
   "metadata": {
    "collapsed": false,
    "pycharm": {
     "name": "#%%\n",
     "is_executing": true
    }
   }
  },
  {
   "cell_type": "code",
   "execution_count": null,
   "outputs": [],
   "source": [
    "# sell order\n",
    "for sell_order in real_time_data.sell_orders:\n",
    "    print(sell_order.volume, sell_order.count, sell_order.price)\n",
    "\n",
    "# buy order\n",
    "for buy_order in real_time_data.buy_orders:\n",
    "    print(buy_order.volume, buy_order.count, buy_order.price)"
   ],
   "metadata": {
    "collapsed": false,
    "pycharm": {
     "name": "#%%\n",
     "is_executing": true
    }
   }
  },
  {
   "cell_type": "code",
   "execution_count": null,
   "outputs": [],
   "source": [
    "print(real_time_data.individual_trade_summary.buy_count)\n",
    "print(real_time_data.individual_trade_summary.buy_vol)\n",
    "print(real_time_data.individual_trade_summary.sell_count)\n",
    "print(real_time_data.individual_trade_summary.sell_vol)\n",
    "print(real_time_data.corporate_trade_summary.buy_count)\n",
    "print(real_time_data.corporate_trade_summary.buy_vol)\n",
    "print(real_time_data.corporate_trade_summary.sell_count)\n",
    "print(real_time_data.corporate_trade_summary.sell_vol)"
   ],
   "metadata": {
    "collapsed": false,
    "pycharm": {
     "name": "#%%\n",
     "is_executing": true
    }
   }
  },
  {
   "cell_type": "markdown",
   "source": [
    "### trade detail"
   ],
   "metadata": {
    "collapsed": false,
    "pycharm": {
     "name": "#%% md\n"
    }
   }
  },
  {
   "cell_type": "code",
   "execution_count": null,
   "outputs": [],
   "source": [
    "ticker = tse.Ticker(\"نوری\")\n",
    "trade_details = ticker.get_trade_details()\n",
    "print(trade_details)"
   ],
   "metadata": {
    "collapsed": false,
    "pycharm": {
     "name": "#%%\n",
     "is_executing": true
    }
   }
  },
  {
   "cell_type": "markdown",
   "source": [
    "## filtering"
   ],
   "metadata": {
    "collapsed": false,
    "pycharm": {
     "name": "#%% md\n"
    }
   }
  },
  {
   "cell_type": "code",
   "execution_count": 66,
   "outputs": [
    {
     "name": "stdout",
     "output_type": "stream",
     "text": [
      "hello\\key_stats.csv\n"
     ]
    }
   ],
   "source": [
    "key_stats = get_stats(base_path=\"hello\", to_csv=True)\n",
    "print(key_stats.columns)"
   ],
   "metadata": {
    "collapsed": false,
    "pycharm": {
     "name": "#%%\n"
    }
   }
  }
 ],
 "metadata": {
  "kernelspec": {
   "display_name": "Python 3",
   "language": "python",
   "name": "python3"
  },
  "language_info": {
   "codemirror_mode": {
    "name": "ipython",
    "version": 2
   },
   "file_extension": ".py",
   "mimetype": "text/x-python",
   "name": "python",
   "nbconvert_exporter": "python",
   "pygments_lexer": "ipython2",
   "version": "2.7.6"
  }
 },
 "nbformat": 4,
 "nbformat_minor": 0
}