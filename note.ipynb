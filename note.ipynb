{
 "cells": [
  {
   "cell_type": "code",
   "execution_count": null,
   "metadata": {
    "collapsed": true,
    "pycharm": {
     "name": "#%%\n"
    }
   },
   "outputs": [],
   "source": [
    "from dash import Dash, dcc, html, Input, Output\n",
    "import plotly.express as px\n",
    "\n",
    "app = Dash(__name__)\n",
    "\n",
    "\n",
    "app.layout = html.Div([\n",
    "    html.H4('Stock price analysis'),\n",
    "    dcc.Graph(id=\"time-series-chart\"),\n",
    "    html.P(\"Select stock:\"),\n",
    "    dcc.Dropdown(\n",
    "        id=\"ticker\",\n",
    "        options=[\"AMZN\", \"FB\", \"NFLX\"],\n",
    "        value=\"AMZN\",\n",
    "        clearable=False,\n",
    "    ),\n",
    "])\n",
    "\n",
    "\n",
    "@app.callback(\n",
    "    Output(\"time-series-chart\", \"figure\"),\n",
    "    Input(\"ticker\", \"value\"))\n",
    "def display_time_series(ticker):\n",
    "    df = px.data.stocks() # replace with your own data source\n",
    "    fig = px.line(df, x='date', y=ticker)\n",
    "    return fig\n",
    "\n",
    "\n",
    "app.run_server(debug=True)"
   ]
  }
 ],
 "metadata": {
  "kernelspec": {
   "display_name": "Python 3",
   "language": "python",
   "name": "python3"
  },
  "language_info": {
   "codemirror_mode": {
    "name": "ipython",
    "version": 2
   },
   "file_extension": ".py",
   "mimetype": "text/x-python",
   "name": "python",
   "nbconvert_exporter": "python",
   "pygments_lexer": "ipython2",
   "version": "2.7.6"
  }
 },
 "nbformat": 4,
 "nbformat_minor": 0
}